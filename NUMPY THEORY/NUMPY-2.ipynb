{
 "cells": [
  {
   "cell_type": "markdown",
   "id": "cdabe8d5",
   "metadata": {},
   "source": [
    "# UNIVERSAL FUNCTION (u-Function)"
   ]
  },
  {
   "cell_type": "markdown",
   "id": "4bd8f07d",
   "metadata": {},
   "source": [
    "> **VECTORIZED FUNCTION:** No need of iteration. The opern performed on one element will work on all element"
   ]
  },
  {
   "cell_type": "code",
   "execution_count": 1,
   "id": "6d551542",
   "metadata": {},
   "outputs": [],
   "source": [
    "import numpy as np"
   ]
  },
  {
   "cell_type": "markdown",
   "id": "6e59be70",
   "metadata": {},
   "source": [
    "## 1.MEAN OR AVERAGE"
   ]
  },
  {
   "cell_type": "code",
   "execution_count": 2,
   "id": "4a9dd823",
   "metadata": {},
   "outputs": [
    {
     "name": "stdout",
     "output_type": "stream",
     "text": [
      "[[ 1  2  3  4  5]\n",
      " [ 6  7  8  9 10]]\n",
      "\n",
      "TOTAL AVG OF ELEMENTS:  5.5\n",
      "\n",
      "MEAN COLUMN WISE\n",
      "[3.5 4.5 5.5 6.5 7.5]\n",
      "\n",
      "MEAN ROW WISE\n",
      "[3. 8.]\n",
      "\n"
     ]
    }
   ],
   "source": [
    "a = np.arange(1,11).reshape(2,5)\n",
    "print(a)\n",
    "print()\n",
    "\n",
    "#IT WILL GIVE AVG OF ALL VALUE\n",
    "m = np.mean(a)\n",
    "print(\"TOTAL AVG OF ELEMENTS: \",m)\n",
    "print()\n",
    "\n",
    "#TO CALCULATE MEAN COLUMN WISE\n",
    "m_col = np.mean(a,axis=0)\n",
    "print(\"MEAN COLUMN WISE\",m_col,sep='\\n')\n",
    "print()\n",
    "\n",
    "#TO CALCULATE MEAN ROW WISE\n",
    "m_row = np.mean(a,axis=1)\n",
    "print(\"MEAN ROW WISE\",m_row,sep='\\n')\n",
    "print()\n",
    "\n",
    "\n"
   ]
  },
  {
   "cell_type": "markdown",
   "id": "812a0599",
   "metadata": {},
   "source": [
    "## 2.MIN & MAX"
   ]
  },
  {
   "cell_type": "code",
   "execution_count": 3,
   "id": "bd12e08e",
   "metadata": {},
   "outputs": [
    {
     "name": "stdout",
     "output_type": "stream",
     "text": [
      "[[ 1  2  3  4  5]\n",
      " [ 6  7  8  9 10]\n",
      " [11 12 13 14 15]\n",
      " [16 17 18 19 20]]\n",
      "\n",
      "CALCULATION OF MINIMUM\n",
      "1\n",
      "\n",
      "[1 2 3 4 5]\n",
      "\n",
      "[ 1  6 11 16]\n",
      "\n",
      "CALCULATION OF MAXIMUM\n",
      "20\n",
      "\n",
      "[16 17 18 19 20]\n",
      "\n",
      "[ 5 10 15 20]\n",
      "\n"
     ]
    }
   ],
   "source": [
    "b = np.arange(1,21).reshape(4,5)\n",
    "print(b)\n",
    "print()\n",
    "\n",
    "######### CALCULATION OF MINIMUM ########\n",
    "\n",
    "print(\"CALCULATION OF MINIMUM\")\n",
    "#1..min of overall matrix\n",
    "min_all = np.min(b)\n",
    "print(min_all)\n",
    "print()\n",
    "\n",
    "#2..min column wise\n",
    "min_col = np.min(b,axis=0)\n",
    "print(min_col)\n",
    "print()\n",
    "\n",
    "#3..min row wise\n",
    "min_row = np.min(b,axis=1)\n",
    "print(min_row)\n",
    "print()\n",
    "\n",
    "\n",
    "######### CALCULATION OF MAXIMUM ########\n",
    "\n",
    "print(\"CALCULATION OF MAXIMUM\")\n",
    "#1..max of overall matrix\n",
    "max_all = np.max(b)\n",
    "print(max_all)\n",
    "print()\n",
    "\n",
    "#2..max column wise\n",
    "max_col = np.max(b,axis=0)\n",
    "print(max_col)\n",
    "print()\n",
    "\n",
    "#3..max row wise\n",
    "max_row = np.max(b,axis=1)\n",
    "print(max_row)\n",
    "print()"
   ]
  },
  {
   "cell_type": "markdown",
   "id": "59995b24",
   "metadata": {},
   "source": [
    "## 3.  any() FUNCTIONS"
   ]
  },
  {
   "cell_type": "code",
   "execution_count": 4,
   "id": "d645e294",
   "metadata": {},
   "outputs": [
    {
     "name": "stdout",
     "output_type": "stream",
     "text": [
      "[0 1 2 3 4] True\n",
      "[0. 0. 0. 0. 0.] False\n",
      "[ True False False False False]\n",
      "False\n"
     ]
    }
   ],
   "source": [
    "#any(): IT WILL RETURN TRUE EVEN IF THERE IS ONEE NON-ZERO VALUE\n",
    "a1 = np.arange(5)\n",
    "print(a1,np.any(a1))\n",
    "\n",
    "a2 = np.zeros(5)\n",
    "print(a2,np.any(a2))\n",
    "print(a1 <= a2)\n",
    "print(np.any(a1 < a2)) #it return true even if one value is true"
   ]
  },
  {
   "cell_type": "markdown",
   "id": "05fba739",
   "metadata": {},
   "source": [
    "## 4. ADDITION"
   ]
  },
  {
   "cell_type": "code",
   "execution_count": 5,
   "id": "6ce793f9",
   "metadata": {},
   "outputs": [
    {
     "name": "stdout",
     "output_type": "stream",
     "text": [
      "[[0 1 2]\n",
      " [3 4 5]\n",
      " [6 7 8]]\n",
      "\n",
      "\n",
      "[[10 11 12]\n",
      " [13 14 15]\n",
      " [16 17 18]]\n"
     ]
    },
    {
     "data": {
      "text/plain": [
       "array([[10, 12, 14],\n",
       "       [16, 18, 20],\n",
       "       [22, 24, 26]])"
      ]
     },
     "execution_count": 5,
     "metadata": {},
     "output_type": "execute_result"
    }
   ],
   "source": [
    "#normal addition is performed as the shape of array is same\n",
    "#to perform abnormal addition use broadcasting\n",
    "A = np.arange(9).reshape(3,3)\n",
    "print(A)\n",
    "print()\n",
    "B = np.arange(10,19).reshape(3,3)\n",
    "print()\n",
    "print(B)\n",
    "\n",
    "A + B"
   ]
  },
  {
   "cell_type": "markdown",
   "id": "b51324c7",
   "metadata": {},
   "source": [
    "## 5.BROAD-CASTING\n",
    "[click to read](https://numpy.org/doc/stable/user/basics.broadcasting.html)"
   ]
  },
  {
   "cell_type": "code",
   "execution_count": 6,
   "id": "f1e6ac30",
   "metadata": {},
   "outputs": [
    {
     "name": "stdout",
     "output_type": "stream",
     "text": [
      "[[0]\n",
      " [1]\n",
      " [2]\n",
      " [3]]\n",
      "\n",
      "[[ 0  1  2  3]\n",
      " [ 4  5  6  7]\n",
      " [ 8  9 10 11]\n",
      " [12 13 14 15]]\n",
      "**************************************************\n",
      "\n",
      "[[0]\n",
      " [1]\n",
      " [2]]\n",
      "\n",
      "[[0 1 2 3]]\n",
      "\n",
      "[[0 1 2 3]\n",
      " [1 2 3 4]\n",
      " [2 3 4 5]]\n"
     ]
    }
   ],
   "source": [
    "#The term broadcasting describes how NumPy treats arrays with different shapes during arithmetic operations.\n",
    "#Subject to certain constraints, the smaller array is “broadcast” across the larger array so that they have compatible shapes.\n",
    "#for broadcasting one dim should be 1 \n",
    "#for broadcasting one dimension should be same\n",
    "\n",
    "x = np.arange(4).reshape(4,1)\n",
    "y =  np.arange(16).reshape(4,4)\n",
    "print(x,y,sep='\\n\\n')\n",
    "x + y\n",
    "print('*'*50)\n",
    "print()\n",
    "\n",
    "x1 = np.arange(3).reshape(3,1)\n",
    "y1 =  np.arange(4).reshape(1,4) #note (4,1) it wont work as both axis should go in perpendicular dirn\n",
    "print(x1,y1,sep='\\n\\n')\n",
    "print()\n",
    "print(x1+y1)\n",
    "\n"
   ]
  },
  {
   "cell_type": "markdown",
   "id": "f8493fd2",
   "metadata": {},
   "source": [
    "## 6.SPLITS FUNCTION"
   ]
  },
  {
   "cell_type": "code",
   "execution_count": 7,
   "id": "6e821e1b",
   "metadata": {},
   "outputs": [
    {
     "name": "stdout",
     "output_type": "stream",
     "text": [
      "[0 1 2 3 4 5 6 7 8]\n",
      "[array([0, 1, 2]), array([3, 4, 5]), array([6, 7, 8])]\n",
      "\n",
      "**************************************************\n",
      "[0 1 2 3 4 5 6 7 8 9]\n",
      "[array([0, 1]), array([2, 3]), array([4, 5, 6, 7, 8, 9])]\n",
      "\n",
      "**************************************************\n",
      "[[0 1 2]\n",
      " [3 4 5]\n",
      " [6 7 8]]\n",
      "[array([[0, 1, 2]]), array([[3, 4, 5]]), array([[6, 7, 8]])]\n",
      "\n",
      "[array([[0],\n",
      "       [3],\n",
      "       [6]]), array([[1],\n",
      "       [4],\n",
      "       [7]]), array([[2],\n",
      "       [5],\n",
      "       [8]])]\n"
     ]
    }
   ],
   "source": [
    "#SPLIT: ITS USED TO SPLIT OUR ARRAY INTO NO OF SUB ARRAY\n",
    "#SYNTAX: np.split(array,parts)  wher parts can be int or array\n",
    "\n",
    "#split on 1-d array by integer\n",
    "s1 = np.arange(9)\n",
    "print(s1)\n",
    "s_1 = np.split(s1,3)\n",
    "print(s_1)\n",
    "print()\n",
    "print('*'*50)\n",
    "\n",
    "#split on 1-d array by list:[a,b] it will split upto idx a ,betw a-b, from b to end\n",
    "#pattern of splitting will be same\n",
    "s2 = np.arange(10)\n",
    "print(s2)\n",
    "s_2 = np.split(s2,[2,4])\n",
    "print(s_2)\n",
    "print()\n",
    "print('*'*50)\n",
    "\n",
    "#split on n-d array using value\n",
    "s3 = np.arange(9).reshape(3,3)\n",
    "print(s3)\n",
    "s_3 = np.split(s3,3,axis=0)\n",
    "print(s_3)\n",
    "print()\n",
    "s_3 = np.split(s3,3,axis=1)\n",
    "print(s_3,sep='\\n')"
   ]
  },
  {
   "cell_type": "markdown",
   "id": "de428dc2",
   "metadata": {},
   "source": [
    "## 7.MERGING OR JOINING OR CONCATINATE"
   ]
  },
  {
   "cell_type": "code",
   "execution_count": 8,
   "id": "7b105dad",
   "metadata": {},
   "outputs": [
    {
     "name": "stdout",
     "output_type": "stream",
     "text": [
      "[0 1 2]\n",
      "[3 4 5]\n",
      "\n",
      "hstack: \n",
      "[0 1 2 3 4 5]\n",
      "\n",
      "vstack: \n",
      "[[0 1 2]\n",
      " [3 4 5]]\n",
      "\n",
      "stack by axis=1 (horizontal stack)\n",
      "[[0 3]\n",
      " [1 4]\n",
      " [2 5]]\n"
     ]
    }
   ],
   "source": [
    "#STACK : ITS USED TO MERGE TWO ARRAYS OR SUB ARRAYS\n",
    "#HSTACK : ITS USED TO STACK HORIZONTALLY OR AXISS=0 IN STACK\n",
    "#VSTACK: ITS USED TO STACK VERTICALLY OR AXIS=1 IN STACK\n",
    "a1 = np.arange(3)\n",
    "b1 = np.arange(3,6)\n",
    "print(a1,b1,sep='\\n')\n",
    "print()\n",
    "print('hstack: ',np.hstack((a1,b1)),sep='\\n')\n",
    "print()\n",
    "print('vstack: ',np.vstack((a1,b1)),sep='\\n')\n",
    "print()\n",
    "print('stack by axis=1 (horizontal stack)',np.stack((a1,b1),axis=1),sep='\\n')\n"
   ]
  },
  {
   "attachments": {
    "1.jpg": {
     "image/jpeg": "[encoded data removed]"
    }
   },
   "cell_type": "markdown",
   "id": "63b3c9d2",
   "metadata": {},
   "source": [
    "## 8.ITERATION IN ARRAY\n",
    "![1.jpg](attachment:1.jpg)"
   ]
  },
  {
   "cell_type": "code",
   "execution_count": 20,
   "id": "556b7144",
   "metadata": {},
   "outputs": [
    {
     "name": "stdout",
     "output_type": "stream",
     "text": [
      "[[[  0  10]\n",
      "  [ 20  30]]\n",
      "\n",
      " [[ 40  50]\n",
      "  [ 60  70]]\n",
      "\n",
      " [[ 80  90]\n",
      "  [100 110]]]\n",
      "\n",
      "iteration using for loop\n",
      "[0 1], [2 3], [4 5], [6 7], [8 9], [10 11], \n",
      "\n",
      "using np.nditer(arr_name)\n",
      "0 1 2 3 4 5 6 7 8 9 10 11 \n",
      "\n",
      "index :(0, 0, 0)-- value :0 | index :(0, 0, 1)-- value :1 | index :(0, 1, 0)-- value :2 | index :(0, 1, 1)-- value :3 | index :(1, 0, 0)-- value :4 | index :(1, 0, 1)-- value :5 | index :(1, 1, 0)-- value :6 | index :(1, 1, 1)-- value :7 | index :(2, 0, 0)-- value :8 | index :(2, 0, 1)-- value :9 | index :(2, 1, 0)-- value :10 | index :(2, 1, 1)-- value :11 | "
     ]
    }
   ],
   "source": [
    "arr = np.arange(12).reshape(3,2,2)\n",
    "print(arr*10)\n",
    "print()\n",
    "\n",
    "#iteration using for loop:\n",
    "print('iteration using for loop')\n",
    "for i in arr:\n",
    "    for j in i:\n",
    "        print(j,end=', ')\n",
    "        \n",
    "print('\\n')\n",
    "\n",
    "#iteration using np.nditer(arr_name,flags='string')\n",
    "\n",
    "print('using np.nditer(arr_name)')\n",
    "for i in np.nditer(arr):\n",
    "    print(i,end=' ')\n",
    "print('\\n')\n",
    "    \n",
    "    \n",
    "#using enumerate function:\n",
    "for idx,val in np.ndenumerate(arr):\n",
    "    print('index :{}-- value :{}'.format(idx,val),end=' | ')\n"
   ]
  },
  {
   "cell_type": "code",
   "execution_count": null,
   "id": "3772d9b2",
   "metadata": {},
   "outputs": [],
   "source": []
  }
 ],
 "metadata": {
  "kernelspec": {
   "display_name": "Python 3 (ipykernel)",
   "language": "python",
   "name": "python3"
  },
  "language_info": {
   "codemirror_mode": {
    "name": "ipython",
    "version": 3
   },
   "file_extension": ".py",
   "mimetype": "text/x-python",
   "name": "python",
   "nbconvert_exporter": "python",
   "pygments_lexer": "ipython3",
   "version": "3.11.0"
  }
 },
 "nbformat": 4,
 "nbformat_minor": 5
}
