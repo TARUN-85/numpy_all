{
 "cells": [
  {
   "cell_type": "markdown",
   "id": "4479e178",
   "metadata": {},
   "source": [
    "# INTRODUCTION TO NUMPY\n",
    "**USE BELOW LINK TO READ MORE ON NUMPY.....:**\n",
    "\n",
    "[CLICK_NUMPY_PDF](https://numpy.org/doc/1.23/numpy-user.pdf)\n",
    "\n",
    "[official_numpy](https://numpy.org/doc/stable/reference/generated/numpy.ndarray.html)"
   ]
  },
  {
   "cell_type": "markdown",
   "id": "a2422fd1",
   "metadata": {},
   "source": [
    "### WHY NUMPY ?\n",
    "* IT'S FASTER THAN PYTHON ARRAY(SPEED IS HIGHER THAN PYTHON ARRAY)\n",
    "* PYTHON ARRAY REQUIRED MORE SPACE THAN NUMPY (AS ITS RETURN IN C)\n",
    "* IT'S USED IN BIG DATA FOR ANALYSIS\n",
    "* NUMPY IS NUMERICAL COMPUTATIONAL ANALYSIS....."
   ]
  },
  {
   "cell_type": "markdown",
   "id": "4db3f59e",
   "metadata": {},
   "source": [
    "use this link to read more about numpy...\n",
    "[numpy..attributes](https://www.educative.io/answers/what-are-the-most-important-attributes-of-a-numpy-array-object)"
   ]
  },
  {
   "cell_type": "code",
   "execution_count": 1,
   "id": "436b555d",
   "metadata": {},
   "outputs": [],
   "source": [
    "#Importing numpy to jupyter\n",
    "#Don't use from as there might be class in functon of diff modules\n",
    "#use tab to autosuugest command\n",
    "import numpy as np"
   ]
  },
  {
   "cell_type": "code",
   "execution_count": 2,
   "id": "d100ee5a",
   "metadata": {},
   "outputs": [
    {
     "name": "stdout",
     "output_type": "stream",
     "text": [
      "[1 2 3 4 5 6]................<class 'numpy.ndarray'>\n"
     ]
    }
   ],
   "source": [
    "#CREATING OF FIRST NUMPY ARRAY\n",
    "#SYNTAX: NP.ARRAY(LIST)\n",
    "l1 = np.array([1,2,3,4,5,6]) \n",
    "print(l1, type(l1),sep=\"................\")\n",
    "#NP.TYPE IS ARRAY AS ITS RETURN IN C & HAS HOMOGENOUS ITEMS ALWAYS"
   ]
  },
  {
   "cell_type": "code",
   "execution_count": 3,
   "id": "6ad76a16",
   "metadata": {},
   "outputs": [
    {
     "name": "stdout",
     "output_type": "stream",
     "text": [
      "(4, 3)\n"
     ]
    }
   ],
   "source": [
    "#shape: This attribute returns the dimension of the array. \n",
    "#It is a tuple of integers that indicates the size of your NumPy array.\n",
    "#eg: its a matrix of 4-rows & 3-col\n",
    "#Note: no of element in all row must be same\n",
    "l2 = np.array([[1,2,3],[4,5,6],[7,8,9],[10,11,12]])\n",
    "print(l2.shape)\n",
    "\n"
   ]
  },
  {
   "cell_type": "code",
   "execution_count": 4,
   "id": "7baaae80",
   "metadata": {},
   "outputs": [
    {
     "name": "stdout",
     "output_type": "stream",
     "text": [
      "int32\n"
     ]
    }
   ],
   "source": [
    "#dtype:to check what type of elements are stored in the NumPy array.\n",
    "#if there is even a single val float then it will return float64 \n",
    "print(l2.dtype)\n"
   ]
  },
  {
   "cell_type": "code",
   "execution_count": 5,
   "id": "ac78d715",
   "metadata": {},
   "outputs": [
    {
     "name": "stdout",
     "output_type": "stream",
     "text": [
      "[[0. 0. 0. 0. 0. 0.]\n",
      " [0. 0. 0. 0. 0. 0.]\n",
      " [0. 0. 0. 0. 0. 0.]\n",
      " [0. 0. 0. 0. 0. 0.]]\n"
     ]
    }
   ],
   "source": [
    "#creating blanks array with all element zeros\n",
    "#SYNTAX: np.zeros(tuple(rows,column)) is madatory\n",
    "k = np.zeros((4,6))\n",
    "print(k)"
   ]
  },
  {
   "cell_type": "code",
   "execution_count": 6,
   "id": "d381f585",
   "metadata": {},
   "outputs": [
    {
     "name": "stdout",
     "output_type": "stream",
     "text": [
      "[[1. 1. 1. 1. 1.]\n",
      " [1. 1. 1. 1. 1.]\n",
      " [1. 1. 1. 1. 1.]]\n"
     ]
    }
   ],
   "source": [
    "#creating blank array with all element ones\n",
    "#SYNTAX: np.ones(tuple(rows,column))\n",
    "k1 = np.ones((3,5))\n",
    "print(k1)\n",
    "\n",
    "#Note: TO GET ALL VALUE 'N' AS INTEGER MULTIPLY (NP.ONES()) * 'N'"
   ]
  },
  {
   "cell_type": "code",
   "execution_count": 7,
   "id": "700b401a",
   "metadata": {},
   "outputs": [
    {
     "name": "stdout",
     "output_type": "stream",
     "text": [
      "[[6.23042070e-307 3.56043053e-307 1.60219306e-306]\n",
      " [2.44763557e-307 1.69119330e-306 1.78022342e-306]\n",
      " [1.05700345e-307 3.11525958e-307 1.69118108e-306]\n",
      " [8.06632139e-308 1.20160711e-306 1.69119330e-306]]\n"
     ]
    }
   ],
   "source": [
    "#creating an empty array \n",
    "#it look similar to zeros but it can have garbage value\n",
    "k2 = np.empty((4,3))\n",
    "print(k2)"
   ]
  },
  {
   "cell_type": "markdown",
   "id": "0c76c277",
   "metadata": {},
   "source": [
    "### IMPORTANT PROPERTIES OF NUMPY\n",
    "* the operation applied on one element will perform same operation on al the element"
   ]
  },
  {
   "cell_type": "code",
   "execution_count": 8,
   "id": "73114b85",
   "metadata": {},
   "outputs": [
    {
     "data": {
      "text/plain": [
       "['ALLOW_THREADS',\n",
       " 'AxisError',\n",
       " 'BUFSIZE',\n",
       " 'CLIP',\n",
       " 'ComplexWarning',\n",
       " 'DataSource',\n",
       " 'ERR_CALL',\n",
       " 'ERR_DEFAULT',\n",
       " 'ERR_IGNORE',\n",
       " 'ERR_LOG',\n",
       " 'ERR_PRINT',\n",
       " 'ERR_RAISE',\n",
       " 'ERR_WARN',\n",
       " 'FLOATING_POINT_SUPPORT',\n",
       " 'FPE_DIVIDEBYZERO',\n",
       " 'FPE_INVALID',\n",
       " 'FPE_OVERFLOW',\n",
       " 'FPE_UNDERFLOW',\n",
       " 'False_',\n",
       " 'Inf',\n",
       " 'Infinity',\n",
       " 'MAXDIMS',\n",
       " 'MAY_SHARE_BOUNDS',\n",
       " 'MAY_SHARE_EXACT',\n",
       " 'ModuleDeprecationWarning',\n",
       " 'NAN',\n",
       " 'NINF',\n",
       " 'NZERO',\n",
       " 'NaN',\n",
       " 'PINF',\n",
       " 'PZERO',\n",
       " 'RAISE',\n",
       " 'RankWarning',\n",
       " 'SHIFT_DIVIDEBYZERO',\n",
       " 'SHIFT_INVALID',\n",
       " 'SHIFT_OVERFLOW',\n",
       " 'SHIFT_UNDERFLOW',\n",
       " 'ScalarType',\n",
       " 'Tester',\n",
       " 'TooHardError',\n",
       " 'True_',\n",
       " 'UFUNC_BUFSIZE_DEFAULT',\n",
       " 'UFUNC_PYVALS_NAME',\n",
       " 'VisibleDeprecationWarning',\n",
       " 'WRAP',\n",
       " '_CopyMode',\n",
       " '_NoValue',\n",
       " '_UFUNC_API',\n",
       " '__NUMPY_SETUP__',\n",
       " '__all__',\n",
       " '__builtins__',\n",
       " '__cached__',\n",
       " '__config__',\n",
       " '__deprecated_attrs__',\n",
       " '__dir__',\n",
       " '__doc__',\n",
       " '__expired_functions__',\n",
       " '__file__',\n",
       " '__getattr__',\n",
       " '__git_version__',\n",
       " '__loader__',\n",
       " '__name__',\n",
       " '__package__',\n",
       " '__path__',\n",
       " '__spec__',\n",
       " '__version__',\n",
       " '_add_newdoc_ufunc',\n",
       " '_distributor_init',\n",
       " '_financial_names',\n",
       " '_globals',\n",
       " '_mat',\n",
       " '_pyinstaller_hooks_dir',\n",
       " '_pytesttester',\n",
       " '_version',\n",
       " 'abs',\n",
       " 'absolute',\n",
       " 'add',\n",
       " 'add_docstring',\n",
       " 'add_newdoc',\n",
       " 'add_newdoc_ufunc',\n",
       " 'all',\n",
       " 'allclose',\n",
       " 'alltrue',\n",
       " 'amax',\n",
       " 'amin',\n",
       " 'angle',\n",
       " 'any',\n",
       " 'append',\n",
       " 'apply_along_axis',\n",
       " 'apply_over_axes',\n",
       " 'arange',\n",
       " 'arccos',\n",
       " 'arccosh',\n",
       " 'arcsin',\n",
       " 'arcsinh',\n",
       " 'arctan',\n",
       " 'arctan2',\n",
       " 'arctanh',\n",
       " 'argmax',\n",
       " 'argmin',\n",
       " 'argpartition',\n",
       " 'argsort',\n",
       " 'argwhere',\n",
       " 'around',\n",
       " 'array',\n",
       " 'array2string',\n",
       " 'array_equal',\n",
       " 'array_equiv',\n",
       " 'array_repr',\n",
       " 'array_split',\n",
       " 'array_str',\n",
       " 'asanyarray',\n",
       " 'asarray',\n",
       " 'asarray_chkfinite',\n",
       " 'ascontiguousarray',\n",
       " 'asfarray',\n",
       " 'asfortranarray',\n",
       " 'asmatrix',\n",
       " 'atleast_1d',\n",
       " 'atleast_2d',\n",
       " 'atleast_3d',\n",
       " 'average',\n",
       " 'bartlett',\n",
       " 'base_repr',\n",
       " 'binary_repr',\n",
       " 'bincount',\n",
       " 'bitwise_and',\n",
       " 'bitwise_not',\n",
       " 'bitwise_or',\n",
       " 'bitwise_xor',\n",
       " 'blackman',\n",
       " 'block',\n",
       " 'bmat',\n",
       " 'bool8',\n",
       " 'bool_',\n",
       " 'broadcast',\n",
       " 'broadcast_arrays',\n",
       " 'broadcast_shapes',\n",
       " 'broadcast_to',\n",
       " 'busday_count',\n",
       " 'busday_offset',\n",
       " 'busdaycalendar',\n",
       " 'byte',\n",
       " 'byte_bounds',\n",
       " 'bytes0',\n",
       " 'bytes_',\n",
       " 'c_',\n",
       " 'can_cast',\n",
       " 'cast',\n",
       " 'cbrt',\n",
       " 'cdouble',\n",
       " 'ceil',\n",
       " 'cfloat',\n",
       " 'char',\n",
       " 'character',\n",
       " 'chararray',\n",
       " 'choose',\n",
       " 'clip',\n",
       " 'clongdouble',\n",
       " 'clongfloat',\n",
       " 'column_stack',\n",
       " 'common_type',\n",
       " 'compare_chararrays',\n",
       " 'compat',\n",
       " 'complex128',\n",
       " 'complex64',\n",
       " 'complex_',\n",
       " 'complexfloating',\n",
       " 'compress',\n",
       " 'concatenate',\n",
       " 'conj',\n",
       " 'conjugate',\n",
       " 'convolve',\n",
       " 'copy',\n",
       " 'copysign',\n",
       " 'copyto',\n",
       " 'core',\n",
       " 'corrcoef',\n",
       " 'correlate',\n",
       " 'cos',\n",
       " 'cosh',\n",
       " 'count_nonzero',\n",
       " 'cov',\n",
       " 'cross',\n",
       " 'csingle',\n",
       " 'ctypeslib',\n",
       " 'cumprod',\n",
       " 'cumproduct',\n",
       " 'cumsum',\n",
       " 'datetime64',\n",
       " 'datetime_as_string',\n",
       " 'datetime_data',\n",
       " 'deg2rad',\n",
       " 'degrees',\n",
       " 'delete',\n",
       " 'deprecate',\n",
       " 'deprecate_with_doc',\n",
       " 'diag',\n",
       " 'diag_indices',\n",
       " 'diag_indices_from',\n",
       " 'diagflat',\n",
       " 'diagonal',\n",
       " 'diff',\n",
       " 'digitize',\n",
       " 'disp',\n",
       " 'divide',\n",
       " 'divmod',\n",
       " 'dot',\n",
       " 'double',\n",
       " 'dsplit',\n",
       " 'dstack',\n",
       " 'dtype',\n",
       " 'e',\n",
       " 'ediff1d',\n",
       " 'einsum',\n",
       " 'einsum_path',\n",
       " 'emath',\n",
       " 'empty',\n",
       " 'empty_like',\n",
       " 'equal',\n",
       " 'errstate',\n",
       " 'euler_gamma',\n",
       " 'exp',\n",
       " 'exp2',\n",
       " 'expand_dims',\n",
       " 'expm1',\n",
       " 'extract',\n",
       " 'eye',\n",
       " 'fabs',\n",
       " 'fastCopyAndTranspose',\n",
       " 'fft',\n",
       " 'fill_diagonal',\n",
       " 'find_common_type',\n",
       " 'finfo',\n",
       " 'fix',\n",
       " 'flatiter',\n",
       " 'flatnonzero',\n",
       " 'flexible',\n",
       " 'flip',\n",
       " 'fliplr',\n",
       " 'flipud',\n",
       " 'float16',\n",
       " 'float32',\n",
       " 'float64',\n",
       " 'float_',\n",
       " 'float_power',\n",
       " 'floating',\n",
       " 'floor',\n",
       " 'floor_divide',\n",
       " 'fmax',\n",
       " 'fmin',\n",
       " 'fmod',\n",
       " 'format_float_positional',\n",
       " 'format_float_scientific',\n",
       " 'format_parser',\n",
       " 'frexp',\n",
       " 'from_dlpack',\n",
       " 'frombuffer',\n",
       " 'fromfile',\n",
       " 'fromfunction',\n",
       " 'fromiter',\n",
       " 'frompyfunc',\n",
       " 'fromregex',\n",
       " 'fromstring',\n",
       " 'full',\n",
       " 'full_like',\n",
       " 'gcd',\n",
       " 'generic',\n",
       " 'genfromtxt',\n",
       " 'geomspace',\n",
       " 'get_array_wrap',\n",
       " 'get_include',\n",
       " 'get_printoptions',\n",
       " 'getbufsize',\n",
       " 'geterr',\n",
       " 'geterrcall',\n",
       " 'geterrobj',\n",
       " 'gradient',\n",
       " 'greater',\n",
       " 'greater_equal',\n",
       " 'half',\n",
       " 'hamming',\n",
       " 'hanning',\n",
       " 'heaviside',\n",
       " 'histogram',\n",
       " 'histogram2d',\n",
       " 'histogram_bin_edges',\n",
       " 'histogramdd',\n",
       " 'hsplit',\n",
       " 'hstack',\n",
       " 'hypot',\n",
       " 'i0',\n",
       " 'identity',\n",
       " 'iinfo',\n",
       " 'imag',\n",
       " 'in1d',\n",
       " 'index_exp',\n",
       " 'indices',\n",
       " 'inexact',\n",
       " 'inf',\n",
       " 'info',\n",
       " 'infty',\n",
       " 'inner',\n",
       " 'insert',\n",
       " 'int0',\n",
       " 'int16',\n",
       " 'int32',\n",
       " 'int64',\n",
       " 'int8',\n",
       " 'int_',\n",
       " 'intc',\n",
       " 'integer',\n",
       " 'interp',\n",
       " 'intersect1d',\n",
       " 'intp',\n",
       " 'invert',\n",
       " 'is_busday',\n",
       " 'isclose',\n",
       " 'iscomplex',\n",
       " 'iscomplexobj',\n",
       " 'isfinite',\n",
       " 'isfortran',\n",
       " 'isin',\n",
       " 'isinf',\n",
       " 'isnan',\n",
       " 'isnat',\n",
       " 'isneginf',\n",
       " 'isposinf',\n",
       " 'isreal',\n",
       " 'isrealobj',\n",
       " 'isscalar',\n",
       " 'issctype',\n",
       " 'issubclass_',\n",
       " 'issubdtype',\n",
       " 'issubsctype',\n",
       " 'iterable',\n",
       " 'ix_',\n",
       " 'kaiser',\n",
       " 'kron',\n",
       " 'lcm',\n",
       " 'ldexp',\n",
       " 'left_shift',\n",
       " 'less',\n",
       " 'less_equal',\n",
       " 'lexsort',\n",
       " 'lib',\n",
       " 'linalg',\n",
       " 'linspace',\n",
       " 'little_endian',\n",
       " 'load',\n",
       " 'loadtxt',\n",
       " 'log',\n",
       " 'log10',\n",
       " 'log1p',\n",
       " 'log2',\n",
       " 'logaddexp',\n",
       " 'logaddexp2',\n",
       " 'logical_and',\n",
       " 'logical_not',\n",
       " 'logical_or',\n",
       " 'logical_xor',\n",
       " 'logspace',\n",
       " 'longcomplex',\n",
       " 'longdouble',\n",
       " 'longfloat',\n",
       " 'longlong',\n",
       " 'lookfor',\n",
       " 'ma',\n",
       " 'mask_indices',\n",
       " 'mat',\n",
       " 'math',\n",
       " 'matmul',\n",
       " 'matrix',\n",
       " 'matrixlib',\n",
       " 'max',\n",
       " 'maximum',\n",
       " 'maximum_sctype',\n",
       " 'may_share_memory',\n",
       " 'mean',\n",
       " 'median',\n",
       " 'memmap',\n",
       " 'meshgrid',\n",
       " 'mgrid',\n",
       " 'min',\n",
       " 'min_scalar_type',\n",
       " 'minimum',\n",
       " 'mintypecode',\n",
       " 'mod',\n",
       " 'modf',\n",
       " 'moveaxis',\n",
       " 'msort',\n",
       " 'multiply',\n",
       " 'nan',\n",
       " 'nan_to_num',\n",
       " 'nanargmax',\n",
       " 'nanargmin',\n",
       " 'nancumprod',\n",
       " 'nancumsum',\n",
       " 'nanmax',\n",
       " 'nanmean',\n",
       " 'nanmedian',\n",
       " 'nanmin',\n",
       " 'nanpercentile',\n",
       " 'nanprod',\n",
       " 'nanquantile',\n",
       " 'nanstd',\n",
       " 'nansum',\n",
       " 'nanvar',\n",
       " 'nbytes',\n",
       " 'ndarray',\n",
       " 'ndenumerate',\n",
       " 'ndim',\n",
       " 'ndindex',\n",
       " 'nditer',\n",
       " 'negative',\n",
       " 'nested_iters',\n",
       " 'newaxis',\n",
       " 'nextafter',\n",
       " 'nonzero',\n",
       " 'not_equal',\n",
       " 'numarray',\n",
       " 'number',\n",
       " 'obj2sctype',\n",
       " 'object0',\n",
       " 'object_',\n",
       " 'ogrid',\n",
       " 'oldnumeric',\n",
       " 'ones',\n",
       " 'ones_like',\n",
       " 'os',\n",
       " 'outer',\n",
       " 'packbits',\n",
       " 'pad',\n",
       " 'partition',\n",
       " 'percentile',\n",
       " 'pi',\n",
       " 'piecewise',\n",
       " 'place',\n",
       " 'poly',\n",
       " 'poly1d',\n",
       " 'polyadd',\n",
       " 'polyder',\n",
       " 'polydiv',\n",
       " 'polyfit',\n",
       " 'polyint',\n",
       " 'polymul',\n",
       " 'polynomial',\n",
       " 'polysub',\n",
       " 'polyval',\n",
       " 'positive',\n",
       " 'power',\n",
       " 'printoptions',\n",
       " 'prod',\n",
       " 'product',\n",
       " 'promote_types',\n",
       " 'ptp',\n",
       " 'put',\n",
       " 'put_along_axis',\n",
       " 'putmask',\n",
       " 'quantile',\n",
       " 'r_',\n",
       " 'rad2deg',\n",
       " 'radians',\n",
       " 'random',\n",
       " 'ravel',\n",
       " 'ravel_multi_index',\n",
       " 'real',\n",
       " 'real_if_close',\n",
       " 'rec',\n",
       " 'recarray',\n",
       " 'recfromcsv',\n",
       " 'recfromtxt',\n",
       " 'reciprocal',\n",
       " 'record',\n",
       " 'remainder',\n",
       " 'repeat',\n",
       " 'require',\n",
       " 'reshape',\n",
       " 'resize',\n",
       " 'result_type',\n",
       " 'right_shift',\n",
       " 'rint',\n",
       " 'roll',\n",
       " 'rollaxis',\n",
       " 'roots',\n",
       " 'rot90',\n",
       " 'round',\n",
       " 'round_',\n",
       " 'row_stack',\n",
       " 's_',\n",
       " 'safe_eval',\n",
       " 'save',\n",
       " 'savetxt',\n",
       " 'savez',\n",
       " 'savez_compressed',\n",
       " 'sctype2char',\n",
       " 'sctypeDict',\n",
       " 'sctypes',\n",
       " 'searchsorted',\n",
       " 'select',\n",
       " 'set_numeric_ops',\n",
       " 'set_printoptions',\n",
       " 'set_string_function',\n",
       " 'setbufsize',\n",
       " 'setdiff1d',\n",
       " 'seterr',\n",
       " 'seterrcall',\n",
       " 'seterrobj',\n",
       " 'setxor1d',\n",
       " 'shape',\n",
       " 'shares_memory',\n",
       " 'short',\n",
       " 'show_config',\n",
       " 'sign',\n",
       " 'signbit',\n",
       " 'signedinteger',\n",
       " 'sin',\n",
       " 'sinc',\n",
       " 'single',\n",
       " 'singlecomplex',\n",
       " 'sinh',\n",
       " 'size',\n",
       " 'sometrue',\n",
       " 'sort',\n",
       " 'sort_complex',\n",
       " 'source',\n",
       " 'spacing',\n",
       " 'split',\n",
       " 'sqrt',\n",
       " 'square',\n",
       " 'squeeze',\n",
       " 'stack',\n",
       " 'std',\n",
       " 'str0',\n",
       " 'str_',\n",
       " 'string_',\n",
       " 'subtract',\n",
       " 'sum',\n",
       " 'swapaxes',\n",
       " 'sys',\n",
       " 'take',\n",
       " 'take_along_axis',\n",
       " 'tan',\n",
       " 'tanh',\n",
       " 'tensordot',\n",
       " 'test',\n",
       " 'testing',\n",
       " 'tile',\n",
       " 'timedelta64',\n",
       " 'trace',\n",
       " 'tracemalloc_domain',\n",
       " 'transpose',\n",
       " 'trapz',\n",
       " 'tri',\n",
       " 'tril',\n",
       " 'tril_indices',\n",
       " 'tril_indices_from',\n",
       " 'trim_zeros',\n",
       " 'triu',\n",
       " 'triu_indices',\n",
       " 'triu_indices_from',\n",
       " 'true_divide',\n",
       " 'trunc',\n",
       " 'typecodes',\n",
       " 'typename',\n",
       " 'ubyte',\n",
       " 'ufunc',\n",
       " 'uint',\n",
       " 'uint0',\n",
       " 'uint16',\n",
       " 'uint32',\n",
       " 'uint64',\n",
       " 'uint8',\n",
       " 'uintc',\n",
       " 'uintp',\n",
       " 'ulonglong',\n",
       " 'unicode_',\n",
       " 'union1d',\n",
       " 'unique',\n",
       " 'unpackbits',\n",
       " 'unravel_index',\n",
       " 'unsignedinteger',\n",
       " 'unwrap',\n",
       " 'use_hugepage',\n",
       " 'ushort',\n",
       " 'vander',\n",
       " 'var',\n",
       " 'vdot',\n",
       " 'vectorize',\n",
       " 'version',\n",
       " 'void',\n",
       " 'void0',\n",
       " 'vsplit',\n",
       " 'vstack',\n",
       " 'warnings',\n",
       " 'where',\n",
       " 'who',\n",
       " 'zeros',\n",
       " 'zeros_like']"
      ]
     },
     "execution_count": 8,
     "metadata": {},
     "output_type": "execute_result"
    }
   ],
   "source": [
    "#NOTE: TO ACCESS ALL FUNCTION IN NUMPY USE FOLLOWING CMND\n",
    "#THERE ARE 614 FUNCTONS\n",
    "dir(np)"
   ]
  },
  {
   "cell_type": "code",
   "execution_count": 9,
   "id": "e5a34476",
   "metadata": {},
   "outputs": [],
   "source": [
    "lst1 = np.array([[1,2],[3,4]])"
   ]
  },
  {
   "cell_type": "markdown",
   "id": "6f4c8f48",
   "metadata": {},
   "source": [
    "1. **SQUARES OF VALUE**"
   ]
  },
  {
   "cell_type": "code",
   "execution_count": 10,
   "id": "43426a37",
   "metadata": {
    "scrolled": true
   },
   "outputs": [
    {
     "name": "stdout",
     "output_type": "stream",
     "text": [
      "[[ 1  4]\n",
      " [ 9 16]]\n",
      "[[ 1  4]\n",
      " [ 9 16]]\n"
     ]
    }
   ],
   "source": [
    "#square of each elements\n",
    "#it will square each value in the array\n",
    "#even if we multiply directly it will give product of each value\n",
    "sq1 = lst1**2\n",
    "#numpy array multiplication will be diff from matrix multiplication\n",
    "sq2 = lst1*lst1\n",
    "print(sq1,sq2,sep=\"\\n\")"
   ]
  },
  {
   "cell_type": "markdown",
   "id": "22c9d77a",
   "metadata": {},
   "source": [
    "2. **MULTIPLICATION WITH CONSTANT**"
   ]
  },
  {
   "cell_type": "code",
   "execution_count": 11,
   "id": "919e0417",
   "metadata": {},
   "outputs": [
    {
     "name": "stdout",
     "output_type": "stream",
     "text": [
      "multiplication with scalar\n",
      "[[ 3  6]\n",
      " [ 9 12]]\n"
     ]
    }
   ],
   "source": [
    "str1 = \"multiplication with scalar\"\n",
    "k = 3\n",
    "m1 = lst1*k\n",
    "print(str1,m1,sep=\"\\n\")\n"
   ]
  },
  {
   "cell_type": "markdown",
   "id": "102613b2",
   "metadata": {},
   "source": [
    "3. **ADDITION/SUBTRACTION WITH CONST OR ITSELF**"
   ]
  },
  {
   "cell_type": "code",
   "execution_count": 12,
   "id": "9a1e040c",
   "metadata": {},
   "outputs": [
    {
     "name": "stdout",
     "output_type": "stream",
     "text": [
      "[[2 4]\n",
      " [6 8]]\n",
      "[[1 2]\n",
      " [3 4]]\n",
      "[[4 5]\n",
      " [6 7]]\n"
     ]
    }
   ],
   "source": [
    "#USE +- SIGN AS PER REQUIREMENT IT WILL FUNCTION IN A SIMILAR MANNER\n",
    "lst2 = np.array([[1,2],[3,4]])\n",
    "A = lst2 + lst2\n",
    "print(A)\n",
    "print(lst2)\n",
    "B = lst2 + 3\n",
    "print(B)"
   ]
  },
  {
   "cell_type": "markdown",
   "id": "163a031b",
   "metadata": {},
   "source": [
    "4. **INVERSE OF ARRAY ELEMENT**"
   ]
  },
  {
   "cell_type": "code",
   "execution_count": 13,
   "id": "5eda974f",
   "metadata": {},
   "outputs": [
    {
     "name": "stdout",
     "output_type": "stream",
     "text": [
      "[[1.   0.1 ]\n",
      " [0.25 0.2 ]]\n"
     ]
    }
   ],
   "source": [
    "ls3 = np.array([[1,10],[4,5]])\n",
    "print(1/ls3)"
   ]
  },
  {
   "cell_type": "markdown",
   "id": "922ef735",
   "metadata": {},
   "source": [
    "5. **SLICING**"
   ]
  },
  {
   "cell_type": "code",
   "execution_count": 14,
   "id": "486a9344",
   "metadata": {},
   "outputs": [
    {
     "name": "stdout",
     "output_type": "stream",
     "text": [
      "[1 2 3 4 5]\n",
      "3\n",
      "[4 5]\n",
      "[1 2 3 7 5]\n",
      "********************\n",
      "[1 2 3 4 5]\n",
      "[4 5]\n",
      "[9 5]\n",
      "[1 2 3 4 5]\n"
     ]
    }
   ],
   "source": [
    "#IT'S BETTER TO COPY AND USE TO PERFORM BETTER OPERATION\n",
    "#AS IT WILL POINT TO THE SAME ARRAY IN THE MEMORY LOCATION\n",
    "#as shown in the eg the same array is used and the chane in sliced array will change the origibnal array\n",
    "\n",
    "ls3 = np.array([1,2,3,4,5])\n",
    "print(ls3)\n",
    "print(ls3[2])\n",
    "arr1 = ls3[3:]\n",
    "print(arr1)\n",
    "arr1[0] = 7\n",
    "print(ls3)\n",
    "print(\"*\"*20)\n",
    "\n",
    "#performing operation after copy\n",
    "ls4 = np.array([1,2,3,4,5])\n",
    "print(ls4)\n",
    "arr2 = ls4[3:].copy()\n",
    "print(arr2)\n",
    "arr2[0] = 9\n",
    "print(arr2)\n",
    "print(ls4)"
   ]
  },
  {
   "cell_type": "markdown",
   "id": "ff956da5",
   "metadata": {},
   "source": [
    "6. **MASKING OR FANCY INDEXING**"
   ]
  },
  {
   "cell_type": "code",
   "execution_count": 15,
   "id": "65c7148c",
   "metadata": {},
   "outputs": [
    {
     "name": "stdout",
     "output_type": "stream",
     "text": [
      "[[ 0  1  2  3  4]\n",
      " [ 5  6  7  8  9]\n",
      " [10 11 12 13 14]]\n",
      "\n",
      "[[False False False  True  True]\n",
      " [ True  True  True  True  True]\n",
      " [ True  True  True  True  True]]\n",
      "\n",
      "[ 6  7  8  9 10 11 12 13 14]\n",
      "\n",
      "[3 9]\n",
      "\n",
      "[[False False False  True False]\n",
      " [False False False False  True]\n",
      " [False False False False False]]\n"
     ]
    }
   ],
   "source": [
    "# ITS USED FOR BOOLEAN INDEXING AND CAN GIVE INDEX AS PER CONDITION\n",
    "ls1 = np.arange(15).reshape(3,5)\n",
    "print(ls1)\n",
    "print()\n",
    "print(ls1 > 2)\n",
    "print()\n",
    "a = ls1[ls1 > 5]  #it will give op in 1d format only\n",
    "print(a)\n",
    "print()\n",
    "\n",
    "#using multiple condition\n",
    "b = ls1[(ls1%2==0) | (ls1%3) == 0]\n",
    "print(b)  #it will give index of contn following element\n",
    "print()\n",
    "print((ls1%2==0) | (ls1%3) == 0)"
   ]
  },
  {
   "cell_type": "markdown",
   "id": "3c4861f4",
   "metadata": {},
   "source": [
    "7. **ACCESSING ELEMENT IN AN ARRAY**"
   ]
  },
  {
   "cell_type": "code",
   "execution_count": 16,
   "id": "26232e28",
   "metadata": {},
   "outputs": [
    {
     "name": "stdout",
     "output_type": "stream",
     "text": [
      "3\n",
      "4\n",
      "\n",
      "**********\n",
      "6\n",
      "6\n",
      "[1 2 3]\n",
      "\n",
      "**********\n",
      "[200 500 300 600 700 450]\n",
      "[300 600 700 450]\n",
      "\n",
      "**********\n",
      "[[1 2 3 4]\n",
      " [4 3 2 1]\n",
      " [7 8 9 0]]\n",
      "[1 4 8]\n"
     ]
    }
   ],
   "source": [
    "#ACCESSING IN  A 1D NUMPY ARRAY\n",
    "l1 = np.array([1,2,3,4,5])\n",
    "print(l1[2])\n",
    "print(l1[3])\n",
    "print()\n",
    "print(\"*\"*10)\n",
    "\n",
    "#ACCESSING IN A 'N' DIMENSION NUMPY ARRAY\n",
    "l2 = np.array([[1,2,3],[4,5,6],[7,8,9]])\n",
    "print(l2[1,2])\n",
    "print(l2[1][2])\n",
    "print(l2[0])\n",
    "print()\n",
    "print(\"*\"*10)\n",
    "\n",
    "\n",
    "#THE BELOW METHOD IS USED TO ACCESS MULTIPLE ITEMS AT A TIME\n",
    "#MOST CONVENTIONAL WAY TO ACCES USING INDEXING(1-DIMENSION)\n",
    "ls1 = np.array([200,500,300,600,700,450])\n",
    "print(ls1)\n",
    "print(ls1[[2,3,4,5]]) #it will access all the indexed element seperated by commas\n",
    "print()\n",
    "print(\"*\"*10)\n",
    "\n",
    "\n",
    "#MOST CONVENTIONAL WAY TO ACCES USING INDEXING(N-DIMENSION)\n",
    "ls2 = np.array([[1,2,3,4],[4,3,2,1],[7,8,9,0]])\n",
    "print(ls2)\n",
    "print(ls2[[0,1,2],[0,0,1]]) #it will access corresponding element list[[a,b,c][a,b,c]] i.e... a=a; b=b; c=c"
   ]
  },
  {
   "cell_type": "markdown",
   "id": "5608407d",
   "metadata": {},
   "source": [
    "# MORE ON NUMPY FUNCTION"
   ]
  },
  {
   "cell_type": "markdown",
   "id": "ca9778a6",
   "metadata": {},
   "source": [
    "1. **AXIS OR (ROW/COLUMN) WISE SUMS**"
   ]
  },
  {
   "cell_type": "markdown",
   "id": "8e770d38",
   "metadata": {},
   "source": [
    "> FOR 1D MATRIX"
   ]
  },
  {
   "cell_type": "code",
   "execution_count": 17,
   "id": "1db1499c",
   "metadata": {},
   "outputs": [
    {
     "name": "stdout",
     "output_type": "stream",
     "text": [
      "10\n"
     ]
    }
   ],
   "source": [
    "#SUM OF ELEMENT IN 1D ARRAY\n",
    "a1 = np.array([1,2,3,4])\n",
    "print(sum(a1))"
   ]
  },
  {
   "cell_type": "markdown",
   "id": "6e2f22c5",
   "metadata": {},
   "source": [
    "> FOR 2D MATRIX/ARRAY"
   ]
  },
  {
   "cell_type": "code",
   "execution_count": 18,
   "id": "27f52cf2",
   "metadata": {},
   "outputs": [
    {
     "name": "stdout",
     "output_type": "stream",
     "text": [
      "[[1 2 3]\n",
      " [4 5 6]]\n",
      "\n",
      "(2, 3)\n",
      "\n",
      "[5 7 9]\n",
      "\n",
      "**************************************************\n",
      "(2,)\n",
      "[ 6 15]\n"
     ]
    }
   ],
   "source": [
    "#NOTE: AXIS=0 IS FOR COLUMN & AXIS=1 IS FOR ROWS\n",
    "arr1 = np.array([[1,2,3],[4,5,6]])\n",
    "print(arr1)\n",
    "print()\n",
    "print(arr1.shape)\n",
    "print()\n",
    "#FOR COLUMN WISE SUM USE AXIS= 0...\n",
    "#since column sum array shape is (1,3) \n",
    "# & 1 is 0th element thats why axis=0\n",
    "print(arr1.sum(axis=0))\n",
    "print()\n",
    "print(\"*\"*50)\n",
    "\n",
    "#FOR ROW WISE SUM USE AXIS = 1\n",
    "#since row sum array shape is (2,1) \n",
    "#&  1 is for 1st element thats'y axis = 1\n",
    "k = arr1.sum(axis=1)\n",
    "print(k.shape)\n",
    "print(arr1.sum(axis=1))"
   ]
  },
  {
   "cell_type": "markdown",
   "id": "b6ef617b",
   "metadata": {},
   "source": [
    "2. **DOT PRODUCT OF ELEMENT**"
   ]
  },
  {
   "cell_type": "code",
   "execution_count": 19,
   "id": "18947519",
   "metadata": {},
   "outputs": [
    {
     "name": "stdout",
     "output_type": "stream",
     "text": [
      "[[ 23  29  35]\n",
      " [ 53  67  81]\n",
      " [ 83 105 127]]\n",
      "**************************************************\n",
      "[[ 23  29  35]\n",
      " [ 53  67  81]\n",
      " [ 83 105 127]]\n"
     ]
    }
   ],
   "source": [
    "#FOR DOT PRODUCT NO OF ROW IN 1 == NO OF ROW IN COLUMN\n",
    "#THATS WHY TRANSPOSE IS DONE\n",
    "a1 =  np.array([[1,2],[3,4],[5,6]])\n",
    "a2 = np.array([[7,8],[9,10],[11,12]])\n",
    "ans = a1.dot(a2.transpose())\n",
    "print(ans)\n",
    "print(\"*\"*50)\n",
    "#OTHER SYNTAX : NP.DOT(ARR1,ARR2)\n",
    "print(np.dot(a1,a2.transpose()))\n"
   ]
  },
  {
   "cell_type": "markdown",
   "id": "e49d8612",
   "metadata": {},
   "source": [
    "3. **CROSS PRODUCT**"
   ]
  },
  {
   "cell_type": "code",
   "execution_count": 20,
   "id": "48532fb1",
   "metadata": {},
   "outputs": [
    {
     "name": "stdout",
     "output_type": "stream",
     "text": [
      "[-6 -6 -6]\n"
     ]
    }
   ],
   "source": [
    "#CROSS PRODUCT IS BEWEEN TWO VECTORS\n",
    "ans = np.cross(a1,a2)\n",
    "print(ans)"
   ]
  },
  {
   "cell_type": "markdown",
   "id": "afb122c6",
   "metadata": {},
   "source": [
    "4. **SORTING**"
   ]
  },
  {
   "cell_type": "markdown",
   "id": "265605aa",
   "metadata": {},
   "source": [
    "NOTE: DIFFERENT KIND OF SORTING ALGORITHMS IN NUMPY..\n",
    "CLICK TO CHECK ALL THE ALGORITHMS\n",
    "[CLICK_KIND](https://numpy.org/doc/stable/reference/generated/numpy.sort.html)"
   ]
  },
  {
   "cell_type": "code",
   "execution_count": 21,
   "id": "4b3bfa95",
   "metadata": {},
   "outputs": [
    {
     "name": "stdout",
     "output_type": "stream",
     "text": [
      "[1 2 3 5 6 7 8 9]\n",
      "[0 5 2 3 7 1 4 6]\n",
      "**************************************************\n",
      "column wise sort\n",
      "[[1 3 2]\n",
      " [5 3 6]]\n",
      "row wise sort\n",
      "[[1 3 6]\n",
      " [2 3 5]]\n"
     ]
    }
   ],
   "source": [
    "### SORTING IN 1D ARRAY\n",
    "a1 = np.array([1,7,3,5,8,2,9,6])\n",
    "            #  0,1,2,3,4,5,6,7\n",
    "print(np.sort(a1))\n",
    "print(np.argsort(a1))  #it will return index of sorted element poition where they were befor\n",
    "print(\"*\"*50)\n",
    "\n",
    "### SORTING IN 2D ARRAY\n",
    "#syntax: np.sort(array, axis = \"0 or 1\", kind=\"sorting_type..(quicksort,mergesort..)\")\n",
    "a2 = np.array([[1,3,6],[5,3,2]])\n",
    "print(\"column wise sort\")\n",
    "ans1 = np.sort(a2,axis=0,kind='mergesort')\n",
    "print(ans1)\n",
    "print(\"row wise sort\")\n",
    "ans2 = np.sort(a2,axis=1,kind='mergesort')\n",
    "print(ans2)\n",
    "\n",
    "\n",
    "#note: bydefault axis will be last axis or it will sort as the same order given."
   ]
  },
  {
   "cell_type": "markdown",
   "id": "3d06b951",
   "metadata": {},
   "source": [
    "7. **NUMPY ARANGE FUNCTION**`"
   ]
  },
  {
   "cell_type": "code",
   "execution_count": 22,
   "id": "b8ab12c5",
   "metadata": {},
   "outputs": [
    {
     "name": "stdout",
     "output_type": "stream",
     "text": [
      "[0 1 2 3 4 5 6 7 8 9]\n",
      "**************************************************\n",
      "[  1.           8.07142857  15.14285714  22.21428571  29.28571429\n",
      "  36.35714286  43.42857143  50.5         57.57142857  64.64285714\n",
      "  71.71428571  78.78571429  85.85714286  92.92857143 100.        ]\n"
     ]
    }
   ],
   "source": [
    "##ARRANGE FUNCTION IS SIMILAR TO RANGE FUNCTION IN PYTHON\n",
    "#SYNTAX: arange(start,end,step_size)\n",
    "a = np.arange(10)\n",
    "print(a)\n",
    "print(\"*\"*50)\n",
    "\n",
    "###LINSPACE:ITS SIMILAR TO ARANGE BUT END_POINT IS INCLUSIVE\n",
    "#SYNTAX: np.linspace(start,end, required_count)\n",
    "b = np.linspace(1,100,15)\n",
    "print(b)"
   ]
  },
  {
   "cell_type": "markdown",
   "id": "8997d185",
   "metadata": {},
   "source": [
    "8. **CONVERTING ARRAY INTO N-DIMENSION & order of index**"
   ]
  },
  {
   "cell_type": "code",
   "execution_count": 23,
   "id": "155f7ef1",
   "metadata": {},
   "outputs": [
    {
     "name": "stdout",
     "output_type": "stream",
     "text": [
      "(10,)\n",
      "**************************************************\n",
      "[[1 2]\n",
      " [3 4]\n",
      " [5 6]\n",
      " [7 8]\n",
      " [9 0]]\n",
      "**************************************************\n",
      "(5, 2)\n",
      "**************************************************\n",
      "[0 2 4 6 8 7 5 3 1]\n",
      "0\n",
      "1\n"
     ]
    }
   ],
   "source": [
    "#RESHAPE: its used to convert 1d to n-d matrix\n",
    "#SYNTAX: arr.reshape(row_required,col_required)\n",
    "#NOTE: lenght(1d array) = row_required * col_required\n",
    "b = np.array([1,2,3,4,5,6,7,8,9,0])\n",
    "print(b.shape)\n",
    "print(\"*\"*50)\n",
    "c = b.reshape(5,2)\n",
    "print(c)\n",
    "print(\"*\"*50)\n",
    "print(c.shape)\n",
    "print(\"*\"*50)\n",
    "\n",
    "\n",
    "#ARGSORT: it will give the index order of element present in ascending order\n",
    "#IT CAN BE USE IN N_DIMENSION ARRAY\n",
    "l1 = np.array([1,9,2,8,3,7,4,6,5])\n",
    "print(np.argsort(l1))\n",
    "print(np.argmin(l1)) #it return index of min element\n",
    "print(np.argmax(l1)) #it return index of max element"
   ]
  },
  {
   "cell_type": "markdown",
   "id": "15d62e7b",
   "metadata": {},
   "source": [
    "9. **CONVERTING FROM N_DIM TO 1_D ARRAY**"
   ]
  },
  {
   "cell_type": "code",
   "execution_count": 24,
   "id": "598f9140",
   "metadata": {},
   "outputs": [
    {
     "name": "stdout",
     "output_type": "stream",
     "text": [
      "[[ 0  1  2  3]\n",
      " [ 4  5  6  7]\n",
      " [ 8  9 10 11]]\n",
      "[ 0  1  2  3  4  5  6  7  8  9 10 11]\n",
      "[ 0  1  2  3  4  5  6  7  8  9 10 11]\n"
     ]
    }
   ],
   "source": [
    "###FLATENNING: ITS USE TO CONVER N DIM INTO A 1_D ARRAY\n",
    "#SYNTAX: NP.FLATTEN(LIST_NAME)\n",
    "a = np.arange(12).reshape(3,4)\n",
    "print(a)\n",
    "b = a.flatten()\n",
    "print(b)\n",
    "\n",
    "#the above thing can also be done using reshape(n_element)\n",
    "d = a.reshape(12)\n",
    "print(d)"
   ]
  },
  {
   "cell_type": "markdown",
   "id": "0a9f1200",
   "metadata": {},
   "source": [
    "#### 10.TILE FUNCTION"
   ]
  },
  {
   "cell_type": "code",
   "execution_count": 37,
   "id": "cdfaa368",
   "metadata": {},
   "outputs": [
    {
     "name": "stdout",
     "output_type": "stream",
     "text": [
      "[[0 1 2 3 4]\n",
      " [5 6 7 8 9]]\n",
      "\n",
      "[[0 1 2 3 4 0 1 2 3 4]\n",
      " [5 6 7 8 9 5 6 7 8 9]\n",
      " [0 1 2 3 4 0 1 2 3 4]\n",
      " [5 6 7 8 9 5 6 7 8 9]\n",
      " [0 1 2 3 4 0 1 2 3 4]\n",
      " [5 6 7 8 9 5 6 7 8 9]]\n"
     ]
    }
   ],
   "source": [
    "#TILE FUNCTION(): IT IS USED TO COPY NUMY MATRIX IN THE REQUIRED FORM BY STACKING OVER OTHER\n",
    "#SYNTAX: np.tile(array_name,(row_repeat_no,col_repeat _no))\n",
    "t1 = np.arange(10).reshape(2,5)\n",
    "print(t1)\n",
    "print()\n",
    "\n",
    "tile1 = np.tile(t1,(3,2))\n",
    "print(tile1)"
   ]
  },
  {
   "cell_type": "markdown",
   "id": "e810be46",
   "metadata": {},
   "source": [
    "# NUMPY MATRIX PROPERTIES"
   ]
  },
  {
   "cell_type": "markdown",
   "id": "f644586b",
   "metadata": {},
   "source": [
    "1. **DIAGONAL MATRIX**"
   ]
  },
  {
   "cell_type": "code",
   "execution_count": 26,
   "id": "a74aa312",
   "metadata": {},
   "outputs": [
    {
     "name": "stdout",
     "output_type": "stream",
     "text": [
      "[[1 0 0 0]\n",
      " [0 2 0 0]\n",
      " [0 0 3 0]\n",
      " [0 0 0 4]]\n",
      "[1 2 3 4]\n"
     ]
    }
   ],
   "source": [
    "#np.diag(values) : IT WILL CREATE A DIAGONAL MATRIX WITH ELEMENT GIVEN AS VALUE(TUPLES) INSIDE IT\n",
    "a = np.diag((1,2,3,4))\n",
    "print(a)\n",
    "\n",
    "#diagonal of diagonal will return a 1-D array....similar to (transpose of transpose is original array)\n",
    "C = np.diag(a)\n",
    "print(C)"
   ]
  },
  {
   "cell_type": "markdown",
   "id": "810941bb",
   "metadata": {},
   "source": [
    "2. **IDENTITY MATRIX**"
   ]
  },
  {
   "cell_type": "code",
   "execution_count": 27,
   "id": "2fdc0b0d",
   "metadata": {},
   "outputs": [
    {
     "name": "stdout",
     "output_type": "stream",
     "text": [
      "[[1. 0. 0. 0. 0.]\n",
      " [0. 1. 0. 0. 0.]\n",
      " [0. 0. 1. 0. 0.]\n",
      " [0. 0. 0. 1. 0.]\n",
      " [0. 0. 0. 0. 1.]]\n"
     ]
    }
   ],
   "source": [
    "## np.IDENTITY((TUPLE),dtype=\"datatype\") WILL RETURN AN N_DIMENSION IDENTITY MATRIX\n",
    "a = np.identity(5)\n",
    "print(a)"
   ]
  },
  {
   "cell_type": "markdown",
   "id": "d27d9778",
   "metadata": {},
   "source": [
    "#### 3.TRANSPOSE OF MATRIX"
   ]
  },
  {
   "cell_type": "code",
   "execution_count": 28,
   "id": "d6fb780b",
   "metadata": {},
   "outputs": [
    {
     "name": "stdout",
     "output_type": "stream",
     "text": [
      "[[1 2 3]\n",
      " [4 5 6]\n",
      " [7 8 9]]\n",
      "\n",
      "[[1 4 7]\n",
      " [2 5 8]\n",
      " [3 6 9]]\n",
      "\n",
      "[[1 4 7]\n",
      " [2 5 8]\n",
      " [3 6 9]]\n"
     ]
    }
   ],
   "source": [
    "#TRANSPOSE('T') : IT WILL INTERCHENGE ROW NUM INTO COLUM NO\n",
    "a = np.arange(1,10).reshape(3,3)\n",
    "print(a)\n",
    "print()\n",
    "\n",
    "#using name.T will also convert into transpose\n",
    "aT = a.T\n",
    "print(aT)\n",
    "print()\n",
    "\n",
    "#using transpose function\n",
    "aT1 = np.transpose(a)\n",
    "print(aT1)"
   ]
  },
  {
   "cell_type": "code",
   "execution_count": null,
   "id": "99e50c38",
   "metadata": {},
   "outputs": [],
   "source": []
  }
 ],
 "metadata": {
  "kernelspec": {
   "display_name": "Python 3 (ipykernel)",
   "language": "python",
   "name": "python3"
  },
  "language_info": {
   "codemirror_mode": {
    "name": "ipython",
    "version": 3
   },
   "file_extension": ".py",
   "mimetype": "text/x-python",
   "name": "python",
   "nbconvert_exporter": "python",
   "pygments_lexer": "ipython3",
   "version": "3.11.0"
  }
 },
 "nbformat": 4,
 "nbformat_minor": 5
}
