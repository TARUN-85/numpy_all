{
 "cells": [
  {
   "cell_type": "markdown",
   "id": "014f40cf",
   "metadata": {},
   "source": [
    "# FIT-BIT CASE STUDY"
   ]
  },
  {
   "cell_type": "code",
   "execution_count": 1,
   "id": "4c645d23",
   "metadata": {},
   "outputs": [],
   "source": [
    "import numpy as np"
   ]
  },
  {
   "cell_type": "markdown",
   "id": "e0b04a2e",
   "metadata": {},
   "source": [
    "#### STEP:1 -- LOADING OR SCRAPING OF DATA"
   ]
  },
  {
   "cell_type": "code",
   "execution_count": 2,
   "id": "0e4300fb",
   "metadata": {},
   "outputs": [
    {
     "name": "stdout",
     "output_type": "stream",
     "text": [
      "2\n",
      "(96, 7)\n"
     ]
    }
   ],
   "source": [
    "#loading of data from folder\n",
    "#np.loadtxt() : it will load data from the folder\n",
    "data = np.loadtxt(\"fitness.txt\",dtype='str')\n",
    "print(data.ndim,data.shape,sep='\\n')"
   ]
  },
  {
   "cell_type": "markdown",
   "id": "e6875c22",
   "metadata": {},
   "source": [
    "#### STEP2 :-- PRINTING OF DATA"
   ]
  },
  {
   "cell_type": "code",
   "execution_count": 3,
   "id": "9f068285",
   "metadata": {},
   "outputs": [
    {
     "name": "stdout",
     "output_type": "stream",
     "text": [
      "[['06-10-2017' '5464' '200' '181' '5' '0' '66']\n",
      " ['07-10-2017' '6041' '100' '197' '8' '0' '66']\n",
      " ['08-10-2017' '25' '100' '0' '5' '0' '66']\n",
      " ['09-10-2017' '5461' '100' '174' '4' '0' '66']\n",
      " ['10-10-2017' '6915' '200' '223' '5' '500' '66']\n",
      " ['11-10-2017' '4545' '100' '149' '6' '0' '66']\n",
      " ['12-10-2017' '4340' '100' '140' '6' '0' '66']\n",
      " ['13-10-2017' '1230' '100' '38' '7' '0' '66']\n",
      " ['14-10-2017' '61' '100' '1' '5' '0' '66']\n",
      " ['15-10-2017' '1258' '100' '40' '6' '0' '65']\n",
      " ['16-10-2017' '3148' '100' '101' '8' '0' '65']\n",
      " ['17-10-2017' '4687' '100' '152' '5' '0' '65']\n",
      " ['18-10-2017' '4732' '300' '150' '6' '500' '65']\n",
      " ['19-10-2017' '3519' '100' '113' '7' '0' '65']\n",
      " ['20-10-2017' '1580' '100' '49' '5' '0' '65']\n",
      " ['21-10-2017' '2822' '100' '86' '6' '0' '65']\n",
      " ['22-10-2017' '181' '100' '6' '8' '0' '65']\n",
      " ['23-10-2017' '3158' '200' '99' '5' '0' '65']\n",
      " ['24-10-2017' '4383' '200' '143' '4' '0' '64']\n",
      " ['25-10-2017' '3881' '200' '125' '5' '0' '64']\n",
      " ['26-10-2017' '4037' '200' '129' '6' '0' '64']\n",
      " ['27-10-2017' '202' '200' '6' '8' '0' '64']\n",
      " ['28-10-2017' '292' '200' '9' '5' '0' '64']\n",
      " ['29-10-2017' '330' '300' '10' '6' '0' '64']\n",
      " ['30-10-2017' '2209' '200' '72' '5' '0' '64']\n",
      " ['31-10-2017' '4550' '300' '150' '8' '500' '64']\n",
      " ['01-11-2017' '4435' '300' '141' '5' '0' '64']\n",
      " ['02-11-2017' '4779' '300' '156' '4' '0' '64']\n",
      " ['03-11-2017' '1831' '300' '57' '5' '0' '64']\n",
      " ['04-11-2017' '2255' '300' '72' '4' '0' '64']\n",
      " ['05-11-2017' '539' '300' '17' '5' '500' '64']\n",
      " ['06-11-2017' '5464' '300' '181' '4' '0' '64']\n",
      " ['07-11-2017' '6041' '200' '197' '3' '0' '64']\n",
      " ['08-11-2017' '4068' '300' '131' '2' '0' '64']\n",
      " ['09-11-2017' '4683' '300' '154' '9' '0' '64']\n",
      " ['10-11-2017' '4033' '300' '137' '5' '0' '64']\n",
      " ['11-11-2017' '6314' '300' '193' '6' '500' '64']\n",
      " ['12-11-2017' '614' '300' '19' '4' '500' '64']\n",
      " ['13-11-2017' '3149' '300' '101' '5' '500' '64']\n",
      " ['14-11-2017' '4005' '300' '139' '8' '500' '64']\n",
      " ['15-11-2017' '4880' '300' '164' '4' '500' '64']\n",
      " ['16-11-2017' '4136' '300' '137' '5' '500' '64']\n",
      " ['17-11-2017' '705' '300' '22' '6' '500' '64']\n",
      " ['18-11-2017' '570' '200' '17' '5' '500' '64']\n",
      " ['19-11-2017' '269' '300' '9' '6' '500' '64']\n",
      " ['20-11-2017' '4275' '300' '145' '5' '0' '64']\n",
      " ['21-11-2017' '5999' '300' '192' '6' '0' '64']\n",
      " ['22-11-2017' '4421' '300' '146' '5' '0' '64']\n",
      " ['23-11-2017' '6930' '300' '234' '6' '0' '64']\n",
      " ['24-11-2017' '5195' '300' '167' '5' '0' '64']\n",
      " ['25-11-2017' '546' '300' '16' '6' '0' '64']\n",
      " ['26-11-2017' '493' '300' '17' '7' '500' '64']\n",
      " ['27-11-2017' '995' '300' '32' '6' '500' '64']\n",
      " ['28-11-2017' '1163' '200' '35' '7' '500' '64']\n",
      " ['29-11-2017' '6676' '100' '220' '6' '500' '64']\n",
      " ['30-11-2017' '3608' '300' '116' '5' '500' '64']\n",
      " ['01-12-2017' '774' '300' '23' '6' '500' '64']\n",
      " ['02-12-2017' '1421' '300' '44' '7' '500' '64']\n",
      " ['03-12-2017' '4064' '300' '131' '8' '500' '64']\n",
      " ['04-12-2017' '2725' '300' '86' '8' '500' '64']\n",
      " ['05-12-2017' '5934' '300' '194' '7' '500' '64']\n",
      " ['06-12-2017' '1867' '300' '60' '8' '500' '64']\n",
      " ['07-12-2017' '3721' '100' '121' '5' '500' '64']\n",
      " ['08-12-2017' '2374' '200' '76' '4' '0' '64']\n",
      " ['09-12-2017' '2909' '200' '93' '3' '500' '64']\n",
      " ['10-12-2017' '1648' '100' '53' '3' '500' '64']\n",
      " ['11-12-2017' '799' '100' '25' '4' '0' '64']\n",
      " ['12-12-2017' '7102' '200' '227' '5' '500' '64']\n",
      " ['13-12-2017' '3941' '200' '125' '5' '500' '64']\n",
      " ['14-12-2017' '7422' '300' '243' '5' '500' '64']\n",
      " ['15-12-2017' '437' '200' '14' '3' '500' '64']\n",
      " ['16-12-2017' '1231' '200' '39' '4' '500' '64']\n",
      " ['17-12-2017' '1696' '100' '55' '4' '0' '64']\n",
      " ['18-12-2017' '4921' '200' '158' '5' '500' '64']\n",
      " ['19-12-2017' '221' '100' '7' '5' '500' '64']\n",
      " ['20-12-2017' '6500' '200' '213' '5' '500' '64']\n",
      " ['21-12-2017' '3575' '200' '116' '5' '500' '64']\n",
      " ['22-12-2017' '4061' '100' '129' '5' '0' '64']\n",
      " ['23-12-2017' '651' '100' '21' '5' '0' '64']\n",
      " ['24-12-2017' '753' '100' '28' '4' '0' '64']\n",
      " ['25-12-2017' '518' '100' '16' '3' '0' '64']\n",
      " ['26-12-2017' '5537' '300' '180' '4' '500' '64']\n",
      " ['27-12-2017' '4108' '200' '138' '5' '500' '64']\n",
      " ['28-12-2017' '5376' '300' '176' '5' '500' '64']\n",
      " ['29-12-2017' '3066' '200' '99' '4' '500' '64']\n",
      " ['30-12-2017' '177' '100' '5' '5' '0' '64']\n",
      " ['31-12-2017' '36' '100' '1' '3' '0' '64']\n",
      " ['01-01-2018' '299' '100' '10' '3' '0' '64']\n",
      " ['02-01-2018' '1447' '200' '47' '3' '0' '64']\n",
      " ['03-01-2018' '2599' '200' '84' '2' '0' '64']\n",
      " ['04-01-2018' '702' '100' '23' '3' '0' '64']\n",
      " ['05-01-2018' '133' '100' '4' '2' '0' '64']\n",
      " ['06-01-2018' '153' '300' '0' '8' '0' '64']\n",
      " ['07-01-2018' '500' '200' '0' '5' '500' '64']\n",
      " ['08-01-2018' '2127' '200' '0' '5' '0' '64']\n",
      " ['09-01-2018' '2203' '300' '0' '5' '500' '64']]\n"
     ]
    }
   ],
   "source": [
    "print(data)\n",
    "# print()\n",
    "# print()\n",
    "# #TRASNSPOSE IS DONE TO GET EACH COLUMN AS A SEPERATE LIST\n",
    "# print(data.T)\n",
    "date,step_cnt,mood,cal_brned,hrs_sleep,bool_active,weight_kg = data.T\n"
   ]
  },
  {
   "cell_type": "markdown",
   "id": "913d9fe8",
   "metadata": {},
   "source": [
    "## DATA CLEANING.."
   ]
  },
  {
   "cell_type": "code",
   "execution_count": 4,
   "id": "73d0d415",
   "metadata": {},
   "outputs": [
    {
     "name": "stdout",
     "output_type": "stream",
     "text": [
      "[5464 6041   25 5461 6915 4545 4340 1230   61 1258 3148 4687 4732 3519\n",
      " 1580 2822  181 3158 4383 3881 4037  202  292  330 2209 4550 4435 4779\n",
      " 1831 2255  539 5464 6041 4068 4683 4033 6314  614 3149 4005 4880 4136\n",
      "  705  570  269 4275 5999 4421 6930 5195  546  493  995 1163 6676 3608\n",
      "  774 1421 4064 2725 5934 1867 3721 2374 2909 1648  799 7102 3941 7422\n",
      "  437 1231 1696 4921  221 6500 3575 4061  651  753  518 5537 4108 5376\n",
      " 3066  177   36  299 1447 2599  702  133  153  500 2127 2203]\n"
     ]
    }
   ],
   "source": [
    "#SINCE, ALL THE ABOVE DATA ARE IN STRING FORMAT SO WE HAVE TO CONVER IT INTO MEANINGFUL DATATYPES\n",
    "#name.astype(\"data type \") is used to conert data in required form\n",
    "step_cnt = step_cnt.astype('int32')\n",
    "print(step_cnt)\n"
   ]
  },
  {
   "cell_type": "markdown",
   "id": "00ddabec",
   "metadata": {},
   "source": [
    "#### 1.INSIGHT FROM MOOD(ANALYSIS OF MOOD)"
   ]
  },
  {
   "cell_type": "code",
   "execution_count": 5,
   "id": "a46e7ce8",
   "metadata": {},
   "outputs": [
    {
     "name": "stdout",
     "output_type": "stream",
     "text": [
      "['200' '100' '100' '100' '200' '100' '100' '100' '100' '100' '100' '100'\n",
      " '300' '100' '100' '100' '100' '200' '200' '200' '200' '200' '200' '300'\n",
      " '200' '300' '300' '300' '300' '300' '300' '300' '200' '300' '300' '300'\n",
      " '300' '300' '300' '300' '300' '300' '300' '200' '300' '300' '300' '300'\n",
      " '300' '300' '300' '300' '300' '200' '100' '300' '300' '300' '300' '300'\n",
      " '300' '300' '100' '200' '200' '100' '100' '200' '200' '300' '200' '200'\n",
      " '100' '200' '100' '200' '200' '100' '100' '100' '100' '300' '200' '300'\n",
      " '200' '100' '100' '100' '200' '200' '100' '100' '300' '200' '200' '300']\n",
      "\n",
      "['100' '200' '300']\n",
      "\n"
     ]
    }
   ],
   "source": [
    "#getting loigic behind mood\n",
    "A = mood.copy()\n",
    "print(A)\n",
    "print()\n",
    "\n",
    "#np.unique(matrix) is used to get unique value\n",
    "#since the value are 100,200 ,300 only i.e its a categorical value\n",
    "a = np.unique(mood)\n",
    "print(a)\n",
    "print()\n",
    "\n",
    "mood[mood=='100']='S'  #sad = 'S'\n",
    "mood[mood=='200'] = 'N' #neutral = 'N'\n",
    "mood[mood=='300'] = 'H'  #happy = 'H'"
   ]
  },
  {
   "cell_type": "code",
   "execution_count": 6,
   "id": "14c149c7",
   "metadata": {},
   "outputs": [
    {
     "name": "stdout",
     "output_type": "stream",
     "text": [
      "['N' 'S' 'S' 'S' 'N' 'S' 'S' 'S' 'S' 'S' 'S' 'S' 'H' 'S' 'S' 'S' 'S' 'N'\n",
      " 'N' 'N' 'N' 'N' 'N' 'H' 'N' 'H' 'H' 'H' 'H' 'H' 'H' 'H' 'N' 'H' 'H' 'H'\n",
      " 'H' 'H' 'H' 'H' 'H' 'H' 'H' 'N' 'H' 'H' 'H' 'H' 'H' 'H' 'H' 'H' 'H' 'N'\n",
      " 'S' 'H' 'H' 'H' 'H' 'H' 'H' 'H' 'S' 'N' 'N' 'S' 'S' 'N' 'N' 'H' 'N' 'N'\n",
      " 'S' 'N' 'S' 'N' 'N' 'S' 'S' 'S' 'S' 'H' 'N' 'H' 'N' 'S' 'S' 'S' 'N' 'N'\n",
      " 'S' 'S' 'H' 'N' 'N' 'H']\n"
     ]
    }
   ],
   "source": [
    "print(mood)"
   ]
  },
  {
   "cell_type": "markdown",
   "id": "e90cdd2a",
   "metadata": {},
   "source": [
    "#### 2.INSIGHT FROM BOOL ACTIVE"
   ]
  },
  {
   "cell_type": "code",
   "execution_count": 7,
   "id": "78346142",
   "metadata": {},
   "outputs": [
    {
     "name": "stdout",
     "output_type": "stream",
     "text": [
      "['0' '0' '0' '0' '500' '0' '0' '0' '0' '0' '0' '0' '500' '0' '0' '0' '0'\n",
      " '0' '0' '0' '0' '0' '0' '0' '0' '500' '0' '0' '0' '0' '500' '0' '0' '0'\n",
      " '0' '0' '500' '500' '500' '500' '500' '500' '500' '500' '500' '0' '0' '0'\n",
      " '0' '0' '0' '500' '500' '500' '500' '500' '500' '500' '500' '500' '500'\n",
      " '500' '500' '0' '500' '500' '0' '500' '500' '500' '500' '500' '0' '500'\n",
      " '500' '500' '500' '0' '0' '0' '0' '500' '500' '500' '500' '0' '0' '0' '0'\n",
      " '0' '0' '0' '0' '500' '0' '500']\n",
      "\n",
      "['0' '500']\n"
     ]
    }
   ],
   "source": [
    "# since there are only 2 value therefore its a categorical value\n",
    "\n",
    "A = bool_active.copy()\n",
    "print(A)\n",
    "print()\n",
    "\n",
    "b = np.unique(bool_active)\n",
    "print(b)"
   ]
  },
  {
   "cell_type": "code",
   "execution_count": 8,
   "id": "c373b37c",
   "metadata": {},
   "outputs": [],
   "source": [
    "bool_active[bool_active == '0'] = 'N-A' #N-A :NOT ACTIVE\n",
    "bool_active[bool_active=='500'] = 'A'  #A: ACTIVE"
   ]
  },
  {
   "cell_type": "code",
   "execution_count": 9,
   "id": "8cd514f7",
   "metadata": {},
   "outputs": [
    {
     "name": "stdout",
     "output_type": "stream",
     "text": [
      "['N-A' 'N-A' 'N-A' 'N-A' 'A' 'N-A' 'N-A' 'N-A' 'N-A' 'N-A' 'N-A' 'N-A' 'A'\n",
      " 'N-A' 'N-A' 'N-A' 'N-A' 'N-A' 'N-A' 'N-A' 'N-A' 'N-A' 'N-A' 'N-A' 'N-A'\n",
      " 'A' 'N-A' 'N-A' 'N-A' 'N-A' 'A' 'N-A' 'N-A' 'N-A' 'N-A' 'N-A' 'A' 'A' 'A'\n",
      " 'A' 'A' 'A' 'A' 'A' 'A' 'N-A' 'N-A' 'N-A' 'N-A' 'N-A' 'N-A' 'A' 'A' 'A'\n",
      " 'A' 'A' 'A' 'A' 'A' 'A' 'A' 'A' 'A' 'N-A' 'A' 'A' 'N-A' 'A' 'A' 'A' 'A'\n",
      " 'A' 'N-A' 'A' 'A' 'A' 'A' 'N-A' 'N-A' 'N-A' 'N-A' 'A' 'A' 'A' 'A' 'N-A'\n",
      " 'N-A' 'N-A' 'N-A' 'N-A' 'N-A' 'N-A' 'N-A' 'A' 'N-A' 'A']\n"
     ]
    }
   ],
   "source": [
    "print(bool_active)"
   ]
  },
  {
   "cell_type": "markdown",
   "id": "b535d26c",
   "metadata": {},
   "source": [
    "#### 3.ANALYSIS OF STEP-COUNT"
   ]
  },
  {
   "cell_type": "code",
   "execution_count": 10,
   "id": "7e79e42d",
   "metadata": {},
   "outputs": [
    {
     "name": "stdout",
     "output_type": "stream",
     "text": [
      "[5464 6041   25 5461 6915 4545 4340 1230   61 1258 3148 4687 4732 3519\n",
      " 1580 2822  181 3158 4383 3881 4037  202  292  330 2209 4550 4435 4779\n",
      " 1831 2255  539 5464 6041 4068 4683 4033 6314  614 3149 4005 4880 4136\n",
      "  705  570  269 4275 5999 4421 6930 5195  546  493  995 1163 6676 3608\n",
      "  774 1421 4064 2725 5934 1867 3721 2374 2909 1648  799 7102 3941 7422\n",
      "  437 1231 1696 4921  221 6500 3575 4061  651  753  518 5537 4108 5376\n",
      " 3066  177   36  299 1447 2599  702  133  153  500 2127 2203]\n",
      "\n",
      "average step_count:=  2935.9375\n",
      "\n",
      "max step count is -->  7422  & its present at index position -->  69...\n",
      "max step count is -->  25  & its present at index position -->  2...\n"
     ]
    }
   ],
   "source": [
    "k = step_cnt.copy()\n",
    "print(k)\n",
    "print()\n",
    "\n",
    "#calculation of average step count\n",
    "avg = np.mean(step_cnt)\n",
    "print('average step_count:= ',avg)\n",
    "print()\n",
    "\n",
    "#date on which step count was maximum...\n",
    "mxm = np.max(step_cnt)\n",
    "mxm_idx = np.argmax(step_cnt)         #return idx of max(step_count)\n",
    "print(\"max step count is -->  {}  & its present at index position -->  {}...\".format(mxm,mxm_idx))\n",
    "\n",
    "#date on which step count was minimum...\n",
    "mn = np.min(step_cnt)\n",
    "mn_idx = np.argmin(step_cnt)         #return idx of min(step_count)\n",
    "print(\"max step count is -->  {}  & its present at index position -->  {}...\".format(mn,mn_idx))"
   ]
  },
  {
   "cell_type": "markdown",
   "id": "b25d6165",
   "metadata": {},
   "source": [
    "> **H:HAPPY, S:SAD, N:NEUTRAL**\n",
    "\n",
    "> **A:ACTIVE, N-A:NOT ACTIVE**\n"
   ]
  },
  {
   "cell_type": "markdown",
   "id": "fb9a53f2",
   "metadata": {},
   "source": [
    "#### 4.INSIGHT ON MAX STEP COUNT DAY"
   ]
  },
  {
   "cell_type": "code",
   "execution_count": 11,
   "id": "fb162762",
   "metadata": {},
   "outputs": [
    {
     "name": "stdout",
     "output_type": "stream",
     "text": [
      "step count was max on 14-12-2017\n",
      "mood on that day was H\n",
      "bool active in that day was A\n",
      "sleep hour on this day was 5\n",
      "243--calories burn on this day\n"
     ]
    }
   ],
   "source": [
    "\n",
    "print(\"step count was max on {}\".format(date[mxm_idx]))\n",
    "print(\"mood on that day was {}\".format(mood[mxm_idx]))\n",
    "print(\"bool active in that day was {}\".format(bool_active[mxm_idx]))\n",
    "print(\"sleep hour on this day was {}\".format(hrs_sleep[mxm_idx]))\n",
    "print('{}--calories burn on this day'.format(cal_brned[mxm_idx]))"
   ]
  },
  {
   "cell_type": "markdown",
   "id": "9e0397f8",
   "metadata": {},
   "source": [
    "#### 5. INSIGHT ON MIN STEP COUNT DAY"
   ]
  },
  {
   "cell_type": "code",
   "execution_count": 12,
   "id": "848ad048",
   "metadata": {},
   "outputs": [
    {
     "name": "stdout",
     "output_type": "stream",
     "text": [
      "step count was max on 08-10-2017\n",
      "mood on that day was S\n",
      "bool active in that day was N-A\n",
      "sleep hour on this day was 5\n",
      "0--calories burn on this day\n"
     ]
    }
   ],
   "source": [
    "print(\"step count was max on {}\".format(date[mn_idx]))\n",
    "print(\"mood on that day was {}\".format(mood[mn_idx]))\n",
    "print(\"bool active in that day was {}\".format(bool_active[mn_idx]))\n",
    "print(\"sleep hour on this day was {}\".format(hrs_sleep[mn_idx]))\n",
    "print('{}--calories burn on this day'.format(cal_brned[mn_idx]))"
   ]
  },
  {
   "cell_type": "markdown",
   "id": "f019e6e9",
   "metadata": {},
   "source": [
    "#### 6.DEVIATION FROM AVERAGE"
   ]
  },
  {
   "cell_type": "code",
   "execution_count": 13,
   "id": "8a30cda1",
   "metadata": {},
   "outputs": [
    {
     "name": "stdout",
     "output_type": "stream",
     "text": [
      "2935.9375\n",
      "\n",
      "{'H': 23, 'N': 11, 'S': 14}\n",
      "step counts value above average\n",
      "[5464 6041 5461 6915 4545 4340 3148 4687 4732 3519 3158 4383 3881 4037\n",
      " 4550 4435 4779 5464 6041 4068 4683 4033 6314 3149 4005 4880 4136 4275\n",
      " 5999 4421 6930 5195 6676 3608 4064 5934 3721 7102 3941 7422 4921 6500\n",
      " 3575 4061 5537 4108 5376 3066]\n",
      "\n",
      "48-days on which step cnt was above avg\n",
      "\n",
      "step counts value below average\n",
      "[  25 1230   61 1258 1580 2822  181  202  292  330 2209 1831 2255  539\n",
      "  614  705  570  269  546  493  995 1163  774 1421 2725 1867 2374 2909\n",
      " 1648  799  437 1231 1696  221  651  753  518  177   36  299 1447 2599\n",
      "  702  133  153  500 2127 2203]\n",
      "\n",
      "48-days on which step cnt was below avg\n",
      "{'H': 23, 'N': 11, 'S': 14}\n"
     ]
    }
   ],
   "source": [
    "print(avg)\n",
    "print()\n",
    "\n",
    "#STEP COUNT ABOVE AVERAGE COUNT\n",
    "K1 = step_cnt[step_cnt > avg]\n",
    "M1 = np.argwhere(K1)\n",
    "print(dict(zip(np.unique(mood[M1],return_counts=True)[0],np.unique(mood[M1],return_counts=True)[1])))\n",
    "print(\"step counts value above average\")\n",
    "print(K1,'{}-days on which step cnt was above avg'.format(len(K1)),sep='\\n\\n')\n",
    "print()\n",
    "\n",
    "#STEP COUNT BELOW AVERAGE\n",
    "K2 = step_cnt[step_cnt < avg]\n",
    "M2 = np.argwhere(K2)\n",
    "print(\"step counts value below average\")\n",
    "print(K2,'{}-days on which step cnt was below avg'.format(len(K2)),sep='\\n\\n')\n",
    "print(dict(zip(np.unique(mood[M2],return_counts=True)[0],np.unique(mood[M2],return_counts=True)[1])))"
   ]
  },
  {
   "cell_type": "markdown",
   "id": "e14c80d1",
   "metadata": {},
   "source": [
    "## CONCLUSION:"
   ]
  },
  {
   "cell_type": "markdown",
   "id": "16c3c9ae",
   "metadata": {},
   "source": [
    "> WE CAN SEE ON THE DAY WE TAKE MAX STEP THE CHANCES OF MOOD HAPPY IS HIGH.SO ITS BETTER TO WORKOUT ON THESE DAYS"
   ]
  },
  {
   "cell_type": "code",
   "execution_count": null,
   "id": "7ebd8e59",
   "metadata": {},
   "outputs": [],
   "source": []
  }
 ],
 "metadata": {
  "kernelspec": {
   "display_name": "Python 3 (ipykernel)",
   "language": "python",
   "name": "python3"
  },
  "language_info": {
   "codemirror_mode": {
    "name": "ipython",
    "version": 3
   },
   "file_extension": ".py",
   "mimetype": "text/x-python",
   "name": "python",
   "nbconvert_exporter": "python",
   "pygments_lexer": "ipython3",
   "version": "3.11.0"
  }
 },
 "nbformat": 4,
 "nbformat_minor": 5
}
